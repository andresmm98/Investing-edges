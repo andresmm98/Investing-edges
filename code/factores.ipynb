{
 "cells": [
  {
   "cell_type": "code",
   "execution_count": 45,
   "metadata": {},
   "outputs": [],
   "source": [
    "# Para usar los factores hay que inicializar los datos que se vayan a usar en __init__\n",
    "# (con la primera función) y después crear otra función para el cálculo del \n",
    "# factor en el create_dataframe (este calculo está libre de sesgos porque se calcula en base\n",
    "# a datos pasados pero se emplea la base de datos ya inicializada, reduciendo el tiempo de \n",
    "# computación)\n",
    "\n",
    "def factor1(tickers):\n",
    "    ans = []\n",
    "    for i in range(len(tickers)):\n",
    "        request_url = f'historical-price-full/{tickers[i]}?'\n",
    "        res = req(request_url,f'59cb9e0309bfc1ef210167906090b097')   \n",
    "        hist = res['historical']\n",
    "        vol = [t['volume'] for t in hist]\n",
    "        date = [t['date'] for t in hist]\n",
    "        res = {'Ticker':tickers[i],'Volume':vol,'Date':date}\n",
    "        ans.append(res)\n",
    "    return ans"
   ]
  }
 ],
 "metadata": {
  "kernelspec": {
   "display_name": "Python 3.8.8 ('base')",
   "language": "python",
   "name": "python3"
  },
  "language_info": {
   "codemirror_mode": {
    "name": "ipython",
    "version": 3
   },
   "file_extension": ".py",
   "mimetype": "text/x-python",
   "name": "python",
   "nbconvert_exporter": "python",
   "pygments_lexer": "ipython3",
   "version": "3.8.8"
  },
  "orig_nbformat": 4,
  "vscode": {
   "interpreter": {
    "hash": "e06ff7da33dc9620448857a90ad8b5f428f0d573d205a934d2841c8aee45ea32"
   }
  }
 },
 "nbformat": 4,
 "nbformat_minor": 2
}
